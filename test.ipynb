{
 "cells": [
  {
   "cell_type": "code",
   "execution_count": 2,
   "source": [
    "from finlib.bars import TimeBars\n",
    "\n",
    "TimeBars()"
   ],
   "outputs": [
    {
     "output_type": "stream",
     "name": "stdout",
     "text": [
      "Here it goes!\n"
     ]
    },
    {
     "output_type": "execute_result",
     "data": {
      "text/plain": [
       "<finlib.bars.TimeBars at 0x7f43c08b38e0>"
      ]
     },
     "metadata": {},
     "execution_count": 2
    }
   ],
   "metadata": {}
  }
 ],
 "metadata": {
  "orig_nbformat": 4,
  "language_info": {
   "name": "python",
   "version": "3.8.10",
   "mimetype": "text/x-python",
   "codemirror_mode": {
    "name": "ipython",
    "version": 3
   },
   "pygments_lexer": "ipython3",
   "nbconvert_exporter": "python",
   "file_extension": ".py"
  },
  "kernelspec": {
   "name": "python3",
   "display_name": "Python 3.8.10 64-bit ('env': venv)"
  },
  "interpreter": {
   "hash": "74bd4fc9da32d1542383f52552a74091abf189c5dc1c26c2d6d7be8ba9f04f1f"
  }
 },
 "nbformat": 4,
 "nbformat_minor": 2
}